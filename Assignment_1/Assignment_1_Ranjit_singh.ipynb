{
 "cells": [
  {
   "cell_type": "code",
   "execution_count": 1,
   "id": "ce082c8d-0f45-4054-b785-a76b306f1e0c",
   "metadata": {},
   "outputs": [],
   "source": [
    "#Import the libraries\n",
    "from tabula import read_pdf\n",
    "from tabulate import tabulate\n",
    "from numpy import percentile\n",
    "import matplotlib.pyplot as plt\n",
    "import difflib\n",
    "from numpy import asarray\n",
    "from sklearn.preprocessing import MinMaxScaler\n",
    "import numpy as np\n",
    "import pandas as pd\n",
    "import scipy.stats as stats"
   ]
  },
  {
   "cell_type": "code",
   "execution_count": 2,
   "id": "3a7939be-bcdf-474f-aefa-8b910b4d8fae",
   "metadata": {},
   "outputs": [],
   "source": [
    "path = \"/Users/ranjitsingh/Downloads/Assignment1.pdf\""
   ]
  },
  {
   "cell_type": "code",
   "execution_count": 3,
   "id": "83fcbd89-fcb3-4c82-a3fd-219bddbbe003",
   "metadata": {},
   "outputs": [],
   "source": [
    "#reads table from pdf file\n",
    "df = read_pdf(path,pages=\"all\") #address of pdf file"
   ]
  },
  {
   "cell_type": "code",
   "execution_count": 4,
   "id": "22eb2212-66e7-47b1-bed2-9dbb64e679dc",
   "metadata": {},
   "outputs": [
    {
     "name": "stdout",
     "output_type": "stream",
     "text": [
      "  Customer  Age\n",
      "0    David   46\n",
      "1     Lisa   25\n",
      "2  Michael   27\n",
      "3    Susan   27\n",
      "4  William   28\n",
      "5      Mat   36\n",
      "6    James   53\n",
      "7    Kevin   27\n",
      "8     Paul   18\n",
      "9  Anthony   25\n"
     ]
    }
   ],
   "source": [
    "#See the dataset for question 1\n",
    "print(df[0])"
   ]
  },
  {
   "cell_type": "markdown",
   "id": "4e8013de-ebd0-49bb-85d9-1bda7bdd4330",
   "metadata": {},
   "source": [
    "### 1.1 Calculate the Mean, median and mode"
   ]
  },
  {
   "cell_type": "code",
   "execution_count": 5,
   "id": "86aa7cb1-fe58-47f9-8b41-abe42e048adc",
   "metadata": {},
   "outputs": [
    {
     "name": "stdout",
     "output_type": "stream",
     "text": [
      "\n",
      "----------- The Mean is-----------\n",
      "\n",
      "31.2\n",
      "\n",
      "----------- The Median is-----------\n",
      "\n",
      "27.0\n",
      "\n",
      "----------- The Mode is-----------\n",
      "\n",
      "0    27\n",
      "Name: Age, dtype: int64\n"
     ]
    }
   ],
   "source": [
    "print(\"\\n----------- The Mean is-----------\\n\")\n",
    "print(df[0]['Age'].mean())\n",
    " \n",
    "print(\"\\n----------- The Median is-----------\\n\")\n",
    "print(df[0]['Age'].median())\n",
    " \n",
    "print(\"\\n----------- The Mode is-----------\\n\")\n",
    "print(df[0]['Age'].mode())"
   ]
  },
  {
   "cell_type": "code",
   "execution_count": 6,
   "id": "df0a4ff3-6a76-4a4a-8818-1aebc705741e",
   "metadata": {},
   "outputs": [
    {
     "name": "stdout",
     "output_type": "stream",
     "text": [
      "   Month  Temperature (°F)\n",
      "0    Jan              52.3\n",
      "1    Feb              56.6\n",
      "2    Mar              64.6\n",
      "3    Apr              72.5\n",
      "4    May              79.9\n",
      "5    Jun              86.4\n",
      "6    Jul              89.1\n",
      "7    Aug              88.1\n",
      "8    Sep              82.2\n",
      "9    Oct              72.7\n",
      "10   Nov              63.6\n",
      "11   Dec              54.0\n"
     ]
    }
   ],
   "source": [
    "print(df[1])"
   ]
  },
  {
   "cell_type": "markdown",
   "id": "bdf54208-fe5c-4536-b4e7-04b621ebffd7",
   "metadata": {},
   "source": [
    "### 2.1 Compute the five-number summary"
   ]
  },
  {
   "cell_type": "code",
   "execution_count": 7,
   "id": "cf60bc67-5c89-4f58-a3ff-e07130255525",
   "metadata": {},
   "outputs": [
    {
     "name": "stdout",
     "output_type": "stream",
     "text": [
      "Min: 52.300\n",
      "Q1: 61.850\n",
      "Median: 72.600\n",
      "Q3: 83.250\n",
      "Max: 89.100\n"
     ]
    }
   ],
   "source": [
    "# calculate quartiles\n",
    "quartiles = percentile(df[1]['Temperature (°F)'], [25, 50, 75])\n",
    "# calculate min/max\n",
    "data_min, data_max = df[1]['Temperature (°F)'].min(), df[1]['Temperature (°F)'].max()\n",
    "# print 5-number summary\n",
    "print('Min: %.3f' % data_min)\n",
    "print('Q1: %.3f' % quartiles[0])\n",
    "print('Median: %.3f' % quartiles[1])\n",
    "print('Q3: %.3f' % quartiles[2])\n",
    "print('Max: %.3f' % data_max)"
   ]
  },
  {
   "cell_type": "markdown",
   "id": "299e9a5c-47ac-4e79-932a-8518befd7397",
   "metadata": {},
   "source": [
    "### 2.2 Outliers in box plot "
   ]
  },
  {
   "cell_type": "markdown",
   "id": "117a70de",
   "metadata": {},
   "source": [
    "There are no outliers as there are no points beyond the lower and upper whisker of the boxplot"
   ]
  },
  {
   "cell_type": "code",
   "execution_count": 8,
   "id": "14cbda79-a0b4-472c-b436-c281f1d66192",
   "metadata": {},
   "outputs": [
    {
     "data": {
      "image/png": "[encoded data removed]",
      "text/plain": [
       "<Figure size 720x504 with 1 Axes>"
      ]
     },
     "metadata": {
      "needs_background": "light"
     },
     "output_type": "display_data"
    },
    {
     "data": {
      "text/plain": [
       "<Figure size 720x504 with 0 Axes>"
      ]
     },
     "metadata": {},
     "output_type": "display_data"
    }
   ],
   "source": [
    "fig = plt.figure(figsize =(10, 7))\n",
    " \n",
    "# Creating plot\n",
    "plt.boxplot(df[1]['Temperature (°F)'])\n",
    "fig = plt.figure(figsize =(10, 7))\n",
    "# show plot\n",
    "plt.show()"
   ]
  },
  {
   "cell_type": "markdown",
   "id": "9602d419-4011-4229-ad39-887e6ecbb872",
   "metadata": {},
   "source": [
    "### 2.3 Plotting the data"
   ]
  },
  {
   "cell_type": "code",
   "execution_count": 9,
   "id": "6eb5c644-5625-449a-9fb9-48f72328b418",
   "metadata": {},
   "outputs": [
    {
     "data": {
      "image/png": "[encoded data removed]",
      "text/plain": [
       "<Figure size 432x288 with 1 Axes>"
      ]
     },
     "metadata": {
      "needs_background": "light"
     },
     "output_type": "display_data"
    }
   ],
   "source": [
    "ax1 = df[1].plot.scatter(x='Temperature (°F)',y='Month', c='DarkBlue')"
   ]
  },
  {
   "cell_type": "markdown",
   "id": "5376b866-d79f-45bb-beef-02752d9375ce",
   "metadata": {},
   "source": [
    "From the above scatter plot we can observe that as the months increase the temperature also increases till July after which the temperature starts to decline to eventually reach back to the same tempertaure as the start of the month."
   ]
  },
  {
   "cell_type": "code",
   "execution_count": 10,
   "id": "cc0e153a-8bcd-40ed-abde-41d4a411dc87",
   "metadata": {},
   "outputs": [
    {
     "name": "stdout",
     "output_type": "stream",
     "text": [
      "     Customer    David     Susan        Lisa\n",
      "0  Profession  Manager   Manager  Programmer\n",
      "1   Education    B.Sc.     B.Sc.       M.Sc.\n",
      "2     Hobbies     Golf  Swimming    Swimming\n"
     ]
    }
   ],
   "source": [
    "print(df[2])\n",
    "sim = df[2]"
   ]
  },
  {
   "cell_type": "markdown",
   "id": "57f487f5-2dac-45bf-a99d-4fce4a601a4f",
   "metadata": {},
   "source": [
    "### 3.1 Attributes in the dataset"
   ]
  },
  {
   "cell_type": "markdown",
   "id": "aebe858b-913f-4cf2-9f5f-e90820d816e2",
   "metadata": {},
   "source": [
    "The attributes in the table are nominal"
   ]
  },
  {
   "cell_type": "markdown",
   "id": "9e18cce3-29a0-4418-ad02-707f07ebc7a6",
   "metadata": {},
   "source": [
    "### 3.2 Similarity values between “David” and “Susan”"
   ]
  },
  {
   "cell_type": "code",
   "execution_count": 11,
   "id": "8a9045a7-1098-4782-91ef-174c00265f11",
   "metadata": {},
   "outputs": [
    {
     "name": "stdout",
     "output_type": "stream",
     "text": [
      "     Customer    David     Susan        Lisa  DS_similarity\n",
      "0  Profession  Manager   Manager  Programmer              1\n",
      "1   Education    B.Sc.     B.Sc.       M.Sc.              1\n",
      "2     Hobbies     Golf  Swimming    Swimming              0\n"
     ]
    }
   ],
   "source": [
    "sim['DS_similarity'] = (\n",
    "    sim[['David','Susan']]\n",
    "    .apply(lambda x: len(difflib.get_close_matches(x[0].lower(), [x[1].lower()])), axis=1)\n",
    ")\n",
    "print(sim)"
   ]
  },
  {
   "cell_type": "markdown",
   "id": "7ac31796-ad64-4ae9-b6a5-29ee93198ce2",
   "metadata": {},
   "source": [
    "### 3.3 Similarity values between “Susan” and “Lisa”"
   ]
  },
  {
   "cell_type": "code",
   "execution_count": 12,
   "id": "21963bb7-b2d9-45d5-b189-6a9d4cdf0cfa",
   "metadata": {},
   "outputs": [
    {
     "name": "stdout",
     "output_type": "stream",
     "text": [
      "     Customer    David     Susan        Lisa  DS_similarity\n",
      "0  Profession  Manager   Manager  Programmer              0\n",
      "1   Education    B.Sc.     B.Sc.       M.Sc.              1\n",
      "2     Hobbies     Golf  Swimming    Swimming              1\n"
     ]
    }
   ],
   "source": [
    "sim['DS_similarity'] = (\n",
    "    sim[['Lisa','Susan']]\n",
    "    .apply(lambda x: len(difflib.get_close_matches(x[0].lower(), [x[1].lower()])), axis=1)\n",
    ")\n",
    "print(sim)"
   ]
  },
  {
   "cell_type": "markdown",
   "id": "894b085b-110a-4317-adf7-50426dc7febc",
   "metadata": {},
   "source": [
    "### 4.1 Types of Attributes"
   ]
  },
  {
   "cell_type": "code",
   "execution_count": 13,
   "id": "17872734-9275-4575-bccc-e1d899ee024f",
   "metadata": {},
   "outputs": [
    {
     "name": "stdout",
     "output_type": "stream",
     "text": [
      "        Patient  Tom  Mat Lucy\n",
      "0         Fever  Yes   No  Yes\n",
      "1         Cough   No  Yes  Yes\n",
      "2        Sleepy  Yes   No   No\n",
      "3      Headache  Yes  Yes   No\n",
      "4  Running nose  Yes  Yes   No\n",
      "5       Fatigue  Yes  Yes  Yes\n",
      "6        Sweaty  Yes   No  Yes\n",
      "7     Dizziness  Yes  Yes  Yes\n"
     ]
    }
   ],
   "source": [
    "print(df[3])\n",
    "sim =df[3]"
   ]
  },
  {
   "cell_type": "markdown",
   "id": "efa48ebd-b141-42f3-ab10-f6269cebaa87",
   "metadata": {},
   "source": [
    "The attributes are binary"
   ]
  },
  {
   "cell_type": "markdown",
   "id": "8d1125df-8f14-4ba1-b171-373780652ad6",
   "metadata": {},
   "source": [
    "### 4.2 Similarity values between “Tom” and “Mat”"
   ]
  },
  {
   "cell_type": "code",
   "execution_count": 14,
   "id": "a438a135-1a02-4f0a-aa93-543b5d5c7fd3",
   "metadata": {},
   "outputs": [
    {
     "name": "stdout",
     "output_type": "stream",
     "text": [
      "        Patient  Tom  Mat Lucy  DS_similarity\n",
      "0         Fever  Yes   No  Yes              0\n",
      "1         Cough   No  Yes  Yes              0\n",
      "2        Sleepy  Yes   No   No              0\n",
      "3      Headache  Yes  Yes   No              1\n",
      "4  Running nose  Yes  Yes   No              1\n",
      "5       Fatigue  Yes  Yes  Yes              1\n",
      "6        Sweaty  Yes   No  Yes              0\n",
      "7     Dizziness  Yes  Yes  Yes              1\n"
     ]
    }
   ],
   "source": [
    "sim['DS_similarity'] = (\n",
    "    sim[['Tom','Mat']]\n",
    "    .apply(lambda x: len(difflib.get_close_matches(x[0].lower(), [x[1].lower()])), axis=1)\n",
    ")\n",
    "print(sim)"
   ]
  },
  {
   "cell_type": "markdown",
   "id": "647228db-79b7-4a80-ba10-0b8609354ea9",
   "metadata": {},
   "source": [
    "### 4.3 Similarity values between “Lucy” and “Mat”"
   ]
  },
  {
   "cell_type": "code",
   "execution_count": 15,
   "id": "9df768fd-2acb-4406-bbc3-17bffacac79f",
   "metadata": {},
   "outputs": [
    {
     "name": "stdout",
     "output_type": "stream",
     "text": [
      "        Patient  Tom  Mat Lucy  DS_similarity\n",
      "0         Fever  Yes   No  Yes              0\n",
      "1         Cough   No  Yes  Yes              1\n",
      "2        Sleepy  Yes   No   No              1\n",
      "3      Headache  Yes  Yes   No              0\n",
      "4  Running nose  Yes  Yes   No              0\n",
      "5       Fatigue  Yes  Yes  Yes              1\n",
      "6        Sweaty  Yes   No  Yes              0\n",
      "7     Dizziness  Yes  Yes  Yes              1\n"
     ]
    }
   ],
   "source": [
    "sim['DS_similarity'] = (\n",
    "    sim[['Lucy','Mat']]\n",
    "    .apply(lambda x: len(difflib.get_close_matches(x[0].lower(), [x[1].lower()])), axis=1)\n",
    ")\n",
    "print(sim)"
   ]
  },
  {
   "cell_type": "markdown",
   "id": "4e811152",
   "metadata": {},
   "source": [
    "### 5.1 Attributes in the dataset"
   ]
  },
  {
   "cell_type": "markdown",
   "id": "6647d7f8",
   "metadata": {},
   "source": [
    "A numeric ratio-scaled attribute "
   ]
  },
  {
   "cell_type": "markdown",
   "id": "b98cf8c3",
   "metadata": {},
   "source": [
    "### 5.2 Simalrity measure choosen"
   ]
  },
  {
   "cell_type": "markdown",
   "id": "f5e170d7",
   "metadata": {},
   "source": [
    "Euclidean distance measure"
   ]
  },
  {
   "cell_type": "markdown",
   "id": "b150a4f9",
   "metadata": {},
   "source": [
    "### 5.3 Similarity values between “A” and “B”"
   ]
  },
  {
   "cell_type": "code",
   "execution_count": 16,
   "id": "18293e55",
   "metadata": {},
   "outputs": [
    {
     "name": "stdout",
     "output_type": "stream",
     "text": [
      "         Flower    A    B    C\n",
      "0  Sepal Length  5.1  7.0  4.8\n",
      "1   Sepal Width  3.5  3.2  3.4\n",
      "2  Petal Length  1.4  4.7  1.9\n",
      "3   Petal Width  0.2  1.4  0.2\n"
     ]
    }
   ],
   "source": [
    "print(df[4])\n",
    "sim = df[4]"
   ]
  },
  {
   "cell_type": "code",
   "execution_count": 17,
   "id": "bd2400a8",
   "metadata": {},
   "outputs": [
    {
     "name": "stdout",
     "output_type": "stream",
     "text": [
      "4.00374824383352\n"
     ]
    }
   ],
   "source": [
    "array_1=sim['A']\n",
    "array_2=sim['B']\n",
    "dist = np.linalg.norm(array_1 - array_2)\n",
    "print(dist)"
   ]
  },
  {
   "cell_type": "markdown",
   "id": "00da8dce",
   "metadata": {},
   "source": [
    "### 5.4 Similarity values between “B” and “C”"
   ]
  },
  {
   "cell_type": "code",
   "execution_count": 18,
   "id": "082ed3cb",
   "metadata": {},
   "outputs": [
    {
     "name": "stdout",
     "output_type": "stream",
     "text": [
      "3.762977544445356\n"
     ]
    }
   ],
   "source": [
    "array_1=sim['B']\n",
    "array_2=sim['C']\n",
    "dist = np.linalg.norm(array_1 - array_2)\n",
    "print(dist)"
   ]
  },
  {
   "cell_type": "markdown",
   "id": "71f614e3",
   "metadata": {},
   "source": [
    "### 6.1 Attributes in the dataset"
   ]
  },
  {
   "cell_type": "markdown",
   "id": "10e75793",
   "metadata": {},
   "source": [
    "The attributes are of type ordinal"
   ]
  },
  {
   "cell_type": "code",
   "execution_count": 19,
   "id": "2304be4b",
   "metadata": {},
   "outputs": [
    {
     "data": {
      "text/html": [
       "<div>\n",
       "<style scoped>\n",
       "    .dataframe tbody tr th:only-of-type {\n",
       "        vertical-align: middle;\n",
       "    }\n",
       "\n",
       "    .dataframe tbody tr th {\n",
       "        vertical-align: top;\n",
       "    }\n",
       "\n",
       "    .dataframe thead th {\n",
       "        text-align: right;\n",
       "    }\n",
       "</style>\n",
       "<table border=\"1\" class=\"dataframe\">\n",
       "  <thead>\n",
       "    <tr style=\"text-align: right;\">\n",
       "      <th></th>\n",
       "      <th>Customer</th>\n",
       "      <th>Kevin</th>\n",
       "      <th>John</th>\n",
       "      <th>Daniel</th>\n",
       "    </tr>\n",
       "  </thead>\n",
       "  <tbody>\n",
       "    <tr>\n",
       "      <th>0</th>\n",
       "      <td>Credit Score Range</td>\n",
       "      <td>Excellent</td>\n",
       "      <td>Very good</td>\n",
       "      <td>Good</td>\n",
       "    </tr>\n",
       "    <tr>\n",
       "      <th>1</th>\n",
       "      <td>Salary Range</td>\n",
       "      <td>High</td>\n",
       "      <td>Very High</td>\n",
       "      <td>Medium</td>\n",
       "    </tr>\n",
       "    <tr>\n",
       "      <th>2</th>\n",
       "      <td>Age</td>\n",
       "      <td>Senior</td>\n",
       "      <td>Middle Age</td>\n",
       "      <td>Young</td>\n",
       "    </tr>\n",
       "  </tbody>\n",
       "</table>\n",
       "</div>"
      ],
      "text/plain": [
       "             Customer      Kevin        John  Daniel\n",
       "0  Credit Score Range  Excellent   Very good    Good\n",
       "1        Salary Range       High   Very High  Medium\n",
       "2                 Age     Senior  Middle Age   Young"
      ]
     },
     "execution_count": 19,
     "metadata": {},
     "output_type": "execute_result"
    }
   ],
   "source": [
    "sim=df[5]\n",
    "\n",
    "cs_list=df[6]['Credit Score Range']\n",
    "sr_list=df[6]['Salary Range']\n",
    "sr_list=sr_list.dropna()\n",
    "a_list=df[6]['Age']\n",
    "a_list=a_list.dropna()\n",
    "sim"
   ]
  },
  {
   "cell_type": "code",
   "execution_count": 20,
   "id": "5b1c695f",
   "metadata": {},
   "outputs": [],
   "source": [
    "sim = sim.replace(['Excellent'],'5')\n",
    "sim = sim.replace(['Very good'],'4')\n",
    "sim = sim.replace(['Good'],'3')\n",
    "sim = sim.replace(['Very High'],'4')\n",
    "sim = sim.replace(['High'],'3')\n",
    "sim = sim.replace(['Medium'],'2')\n",
    "sim = sim.replace(['Senior'],'3')\n",
    "sim = sim.replace(['Middle Age'],'2')\n",
    "sim = sim.replace(['Young'],'1')"
   ]
  },
  {
   "cell_type": "code",
   "execution_count": 21,
   "id": "0e5fe3fb",
   "metadata": {},
   "outputs": [
    {
     "data": {
      "text/html": [
       "<div>\n",
       "<style scoped>\n",
       "    .dataframe tbody tr th:only-of-type {\n",
       "        vertical-align: middle;\n",
       "    }\n",
       "\n",
       "    .dataframe tbody tr th {\n",
       "        vertical-align: top;\n",
       "    }\n",
       "\n",
       "    .dataframe thead th {\n",
       "        text-align: right;\n",
       "    }\n",
       "</style>\n",
       "<table border=\"1\" class=\"dataframe\">\n",
       "  <thead>\n",
       "    <tr style=\"text-align: right;\">\n",
       "      <th></th>\n",
       "      <th>Kevin</th>\n",
       "      <th>John</th>\n",
       "      <th>Daniel</th>\n",
       "    </tr>\n",
       "    <tr>\n",
       "      <th>Customer</th>\n",
       "      <th></th>\n",
       "      <th></th>\n",
       "      <th></th>\n",
       "    </tr>\n",
       "  </thead>\n",
       "  <tbody>\n",
       "    <tr>\n",
       "      <th>Credit Score Range</th>\n",
       "      <td>5</td>\n",
       "      <td>4</td>\n",
       "      <td>3</td>\n",
       "    </tr>\n",
       "    <tr>\n",
       "      <th>Salary Range</th>\n",
       "      <td>3</td>\n",
       "      <td>4</td>\n",
       "      <td>2</td>\n",
       "    </tr>\n",
       "    <tr>\n",
       "      <th>Age</th>\n",
       "      <td>3</td>\n",
       "      <td>2</td>\n",
       "      <td>1</td>\n",
       "    </tr>\n",
       "  </tbody>\n",
       "</table>\n",
       "</div>"
      ],
      "text/plain": [
       "                   Kevin John Daniel\n",
       "Customer                            \n",
       "Credit Score Range     5    4      3\n",
       "Salary Range           3    4      2\n",
       "Age                    3    2      1"
      ]
     },
     "execution_count": 21,
     "metadata": {},
     "output_type": "execute_result"
    }
   ],
   "source": [
    "sim.set_index('Customer')"
   ]
  },
  {
   "cell_type": "code",
   "execution_count": 22,
   "id": "8022f4e5",
   "metadata": {},
   "outputs": [
    {
     "data": {
      "text/html": [
       "<div>\n",
       "<style scoped>\n",
       "    .dataframe tbody tr th:only-of-type {\n",
       "        vertical-align: middle;\n",
       "    }\n",
       "\n",
       "    .dataframe tbody tr th {\n",
       "        vertical-align: top;\n",
       "    }\n",
       "\n",
       "    .dataframe thead th {\n",
       "        text-align: right;\n",
       "    }\n",
       "</style>\n",
       "<table border=\"1\" class=\"dataframe\">\n",
       "  <thead>\n",
       "    <tr style=\"text-align: right;\">\n",
       "      <th></th>\n",
       "      <th>Customer</th>\n",
       "      <th>Credit Score Range</th>\n",
       "      <th>Salary Range</th>\n",
       "      <th>Age</th>\n",
       "    </tr>\n",
       "  </thead>\n",
       "  <tbody>\n",
       "    <tr>\n",
       "      <th>0</th>\n",
       "      <td>Kevin</td>\n",
       "      <td>5</td>\n",
       "      <td>3</td>\n",
       "      <td>3</td>\n",
       "    </tr>\n",
       "    <tr>\n",
       "      <th>1</th>\n",
       "      <td>John</td>\n",
       "      <td>4</td>\n",
       "      <td>4</td>\n",
       "      <td>2</td>\n",
       "    </tr>\n",
       "    <tr>\n",
       "      <th>2</th>\n",
       "      <td>Daniel</td>\n",
       "      <td>3</td>\n",
       "      <td>2</td>\n",
       "      <td>1</td>\n",
       "    </tr>\n",
       "  </tbody>\n",
       "</table>\n",
       "</div>"
      ],
      "text/plain": [
       "  Customer  Credit Score Range  Salary Range  Age\n",
       "0    Kevin                   5             3    3\n",
       "1     John                   4             4    2\n",
       "2   Daniel                   3             2    1"
      ]
     },
     "execution_count": 22,
     "metadata": {},
     "output_type": "execute_result"
    }
   ],
   "source": [
    "# initialize list of lists\n",
    "data = [['Kevin', 5,3,3], ['John', 4,4,2], ['Daniel', 3,2,1]]\n",
    "  \n",
    "# Create the pandas DataFrame\n",
    "df1 = pd.DataFrame(data, columns=['Customer', 'Credit Score Range','Salary Range','Age'])\n",
    "\n",
    "df1"
   ]
  },
  {
   "cell_type": "code",
   "execution_count": 23,
   "id": "976cd3e0",
   "metadata": {},
   "outputs": [],
   "source": [
    "df1['Credit zscore'] = stats.zscore(df1['Credit Score Range'])\n",
    "df1['Salary zscore'] = stats.zscore(df1['Salary Range'])\n",
    "df1['Age zscore'] = stats.zscore(df1['Age'])\n",
    "df1=df1.drop(['Credit Score Range','Salary Range','Age'],axis=1)"
   ]
  },
  {
   "cell_type": "code",
   "execution_count": 24,
   "id": "a272f9f6",
   "metadata": {},
   "outputs": [
    {
     "data": {
      "text/html": [
       "<div>\n",
       "<style scoped>\n",
       "    .dataframe tbody tr th:only-of-type {\n",
       "        vertical-align: middle;\n",
       "    }\n",
       "\n",
       "    .dataframe tbody tr th {\n",
       "        vertical-align: top;\n",
       "    }\n",
       "\n",
       "    .dataframe thead th {\n",
       "        text-align: right;\n",
       "    }\n",
       "</style>\n",
       "<table border=\"1\" class=\"dataframe\">\n",
       "  <thead>\n",
       "    <tr style=\"text-align: right;\">\n",
       "      <th></th>\n",
       "      <th>Customer</th>\n",
       "      <th>Credit zscore</th>\n",
       "      <th>Salary zscore</th>\n",
       "      <th>Age zscore</th>\n",
       "    </tr>\n",
       "  </thead>\n",
       "  <tbody>\n",
       "    <tr>\n",
       "      <th>0</th>\n",
       "      <td>Kevin</td>\n",
       "      <td>1.224745</td>\n",
       "      <td>0.000000</td>\n",
       "      <td>1.224745</td>\n",
       "    </tr>\n",
       "    <tr>\n",
       "      <th>1</th>\n",
       "      <td>John</td>\n",
       "      <td>0.000000</td>\n",
       "      <td>1.224745</td>\n",
       "      <td>0.000000</td>\n",
       "    </tr>\n",
       "    <tr>\n",
       "      <th>2</th>\n",
       "      <td>Daniel</td>\n",
       "      <td>-1.224745</td>\n",
       "      <td>-1.224745</td>\n",
       "      <td>-1.224745</td>\n",
       "    </tr>\n",
       "  </tbody>\n",
       "</table>\n",
       "</div>"
      ],
      "text/plain": [
       "  Customer  Credit zscore  Salary zscore  Age zscore\n",
       "0    Kevin       1.224745       0.000000    1.224745\n",
       "1     John       0.000000       1.224745    0.000000\n",
       "2   Daniel      -1.224745      -1.224745   -1.224745"
      ]
     },
     "execution_count": 24,
     "metadata": {},
     "output_type": "execute_result"
    }
   ],
   "source": [
    "df1"
   ]
  },
  {
   "cell_type": "code",
   "execution_count": 25,
   "id": "253d2ce0",
   "metadata": {},
   "outputs": [],
   "source": [
    "#Dropping customer in order to calculate the metrics(float/string will throw error)\n",
    "df1=df1.drop(['Customer'],axis=1)"
   ]
  },
  {
   "cell_type": "markdown",
   "id": "82677a8d",
   "metadata": {},
   "source": [
    "### 6.2 Similarity values between “Kevin” and “John”\n",
    "\n",
    "### 6.3 Similarity values between “John” and “Daniel”"
   ]
  },
  {
   "cell_type": "code",
   "execution_count": 26,
   "id": "f11378a8",
   "metadata": {},
   "outputs": [
    {
     "data": {
      "text/plain": [
       "array([[0.        , 2.12132034, 3.67423461],\n",
       "       [2.12132034, 0.        , 3.        ],\n",
       "       [3.67423461, 3.        , 0.        ]])"
      ]
     },
     "execution_count": 26,
     "metadata": {},
     "output_type": "execute_result"
    }
   ],
   "source": [
    "#The below euclidean distance pairwise matrix helps compare the similarity between the rows\n",
    "from sklearn.metrics.pairwise import euclidean_distances\n",
    "\n",
    "pairwise_dist_mat = euclidean_distances(df1)\n",
    "pairwise_dist_mat"
   ]
  },
  {
   "cell_type": "markdown",
   "id": "c3977b9b-84c0-4543-bd65-e8579a50d8b9",
   "metadata": {},
   "source": [
    "### 7 Normalization of data"
   ]
  },
  {
   "cell_type": "code",
   "execution_count": 27,
   "id": "926e5d8e-dc85-4e77-b75a-c39515d0d987",
   "metadata": {},
   "outputs": [
    {
     "name": "stdout",
     "output_type": "stream",
     "text": [
      "         Patient  Tom  Mat  Lucy  Brian\n",
      "0  Height (feet)  5.7  6.2   5.1    6.4\n"
     ]
    }
   ],
   "source": [
    "print(df[7])\n",
    "norm=df[7]\n",
    "\n",
    "##norm.pivot(index='Patient',columns='Height (feet)')\n",
    "##norm.pivot(columns='Height (feet)')['Patient']"
   ]
  },
  {
   "cell_type": "code",
   "execution_count": 28,
   "id": "5565a938",
   "metadata": {},
   "outputs": [
    {
     "data": {
      "text/html": [
       "<div>\n",
       "<style scoped>\n",
       "    .dataframe tbody tr th:only-of-type {\n",
       "        vertical-align: middle;\n",
       "    }\n",
       "\n",
       "    .dataframe tbody tr th {\n",
       "        vertical-align: top;\n",
       "    }\n",
       "\n",
       "    .dataframe thead th {\n",
       "        text-align: right;\n",
       "    }\n",
       "</style>\n",
       "<table border=\"1\" class=\"dataframe\">\n",
       "  <thead>\n",
       "    <tr style=\"text-align: right;\">\n",
       "      <th></th>\n",
       "      <th>Patient</th>\n",
       "      <th>Height (feet)</th>\n",
       "    </tr>\n",
       "  </thead>\n",
       "  <tbody>\n",
       "    <tr>\n",
       "      <th>0</th>\n",
       "      <td>Tom</td>\n",
       "      <td>5.7</td>\n",
       "    </tr>\n",
       "    <tr>\n",
       "      <th>1</th>\n",
       "      <td>Mat</td>\n",
       "      <td>6.2</td>\n",
       "    </tr>\n",
       "    <tr>\n",
       "      <th>2</th>\n",
       "      <td>Lucy</td>\n",
       "      <td>5.1</td>\n",
       "    </tr>\n",
       "    <tr>\n",
       "      <th>3</th>\n",
       "      <td>Brian</td>\n",
       "      <td>6.4</td>\n",
       "    </tr>\n",
       "  </tbody>\n",
       "</table>\n",
       "</div>"
      ],
      "text/plain": [
       "  Patient  Height (feet)\n",
       "0     Tom            5.7\n",
       "1     Mat            6.2\n",
       "2    Lucy            5.1\n",
       "3   Brian            6.4"
      ]
     },
     "execution_count": 28,
     "metadata": {},
     "output_type": "execute_result"
    }
   ],
   "source": [
    "# initialize list of lists\n",
    "data = [['Tom',5.7],['Mat',6.2],['Lucy',5.1],['Brian', 6.4]]\n",
    "  \n",
    "# Create the pandas DataFrame\n",
    "df2 = pd.DataFrame(data, columns=['Patient', 'Height (feet)'])\n",
    "\n",
    "df2"
   ]
  },
  {
   "cell_type": "code",
   "execution_count": 29,
   "id": "1ae93212",
   "metadata": {},
   "outputs": [
    {
     "data": {
      "text/html": [
       "<div>\n",
       "<style scoped>\n",
       "    .dataframe tbody tr th:only-of-type {\n",
       "        vertical-align: middle;\n",
       "    }\n",
       "\n",
       "    .dataframe tbody tr th {\n",
       "        vertical-align: top;\n",
       "    }\n",
       "\n",
       "    .dataframe thead th {\n",
       "        text-align: right;\n",
       "    }\n",
       "</style>\n",
       "<table border=\"1\" class=\"dataframe\">\n",
       "  <thead>\n",
       "    <tr style=\"text-align: right;\">\n",
       "      <th></th>\n",
       "      <th>Patient</th>\n",
       "      <th>Height (feet)</th>\n",
       "    </tr>\n",
       "  </thead>\n",
       "  <tbody>\n",
       "    <tr>\n",
       "      <th>0</th>\n",
       "      <td>Tom</td>\n",
       "      <td>0.461538</td>\n",
       "    </tr>\n",
       "    <tr>\n",
       "      <th>1</th>\n",
       "      <td>Mat</td>\n",
       "      <td>0.846154</td>\n",
       "    </tr>\n",
       "    <tr>\n",
       "      <th>2</th>\n",
       "      <td>Lucy</td>\n",
       "      <td>0.000000</td>\n",
       "    </tr>\n",
       "    <tr>\n",
       "      <th>3</th>\n",
       "      <td>Brian</td>\n",
       "      <td>1.000000</td>\n",
       "    </tr>\n",
       "  </tbody>\n",
       "</table>\n",
       "</div>"
      ],
      "text/plain": [
       "  Patient  Height (feet)\n",
       "0     Tom       0.461538\n",
       "1     Mat       0.846154\n",
       "2    Lucy       0.000000\n",
       "3   Brian       1.000000"
      ]
     },
     "metadata": {},
     "output_type": "display_data"
    }
   ],
   "source": [
    "# copy the data\n",
    "df_min_max_scaled = df2.copy()\n",
    "  \n",
    "# apply normalization techniques by Column 1\n",
    "column = 'Height (feet)'\n",
    "df_min_max_scaled[column] = (df_min_max_scaled[column] - df_min_max_scaled[column].min()) / (df_min_max_scaled[column].max() - df_min_max_scaled[column].min())    \n",
    "  \n",
    "# view normalized data\n",
    "display(df_min_max_scaled)"
   ]
  }
 ],
 "metadata": {
  "kernelspec": {
   "display_name": "Python 3 (ipykernel)",
   "language": "python",
   "name": "python3"
  },
  "language_info": {
   "codemirror_mode": {
    "name": "ipython",
    "version": 3
   },
   "file_extension": ".py",
   "mimetype": "text/x-python",
   "name": "python",
   "nbconvert_exporter": "python",
   "pygments_lexer": "ipython3",
   "version": "3.9.12"
  }
 },
 "nbformat": 4,
 "nbformat_minor": 5
}
